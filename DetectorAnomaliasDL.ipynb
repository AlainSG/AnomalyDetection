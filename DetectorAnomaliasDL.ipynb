{
 "cells": [
  {
   "cell_type": "markdown",
   "metadata": {},
   "source": [
    "# Detección de anomalías DL. Autoencoders"
   ]
  },
  {
   "cell_type": "code",
   "execution_count": 55,
   "metadata": {},
   "outputs": [],
   "source": [
    "import tensorflow as tf\n",
    "from tensorflow.keras import layers, models\n",
    "from sklearn.metrics import mean_squared_error\n",
    "from sklearn.datasets import make_blobs\n",
    "import numpy as np\n",
    "from sklearn.preprocessing import StandardScaler\n",
    "import matplotlib.pyplot as plt\n"
   ]
  },
  {
   "cell_type": "code",
   "execution_count": null,
   "metadata": {},
   "outputs": [],
   "source": []
  },
  {
   "cell_type": "markdown",
   "metadata": {},
   "source": [
    "# Crear dataset con dos clústers"
   ]
  },
  {
   "cell_type": "code",
   "execution_count": 5,
   "metadata": {},
   "outputs": [],
   "source": [
    "# Creamos un dataset con dos clústers bien diferenciados\n",
    "X, Y = make_blobs(n_samples = 300, centers = 2, cluster_std = 1.0, random_state=42)"
   ]
  },
  {
   "cell_type": "markdown",
   "metadata": {},
   "source": [
    "# Crear dataset datos anómalos"
   ]
  },
  {
   "cell_type": "code",
   "execution_count": 8,
   "metadata": {},
   "outputs": [],
   "source": [
    "# Añadimos datos anómalos al dataset\n",
    "np.random.seed(42)\n",
    "outliers = np.random.uniform(low=10, high=15, size=(20, 2))"
   ]
  },
  {
   "cell_type": "markdown",
   "metadata": {},
   "source": [
    "# Unión dataset normales y anómalos"
   ]
  },
  {
   "cell_type": "code",
   "execution_count": 9,
   "metadata": {},
   "outputs": [],
   "source": [
    "# Unimos los outliers al dataset\n",
    "X = np.vstack([X, outliers])"
   ]
  },
  {
   "cell_type": "markdown",
   "metadata": {},
   "source": [
    "# Normalización datos"
   ]
  },
  {
   "cell_type": "code",
   "execution_count": 12,
   "metadata": {},
   "outputs": [],
   "source": [
    "scaler = StandardScaler()\n",
    "X_scaled = scaler.fit_transform(X)"
   ]
  },
  {
   "cell_type": "markdown",
   "metadata": {},
   "source": [
    "# Definición del modelo"
   ]
  },
  {
   "cell_type": "markdown",
   "metadata": {},
   "source": [
    "## Definición del tamaño de features de entrada"
   ]
  },
  {
   "cell_type": "code",
   "execution_count": 16,
   "metadata": {},
   "outputs": [],
   "source": [
    "# Definimos el número de features de entrada. Tenemos 320 muestras de 2 dimenssiones (X e Y) por lo que el nº features es 2\n",
    "input_dim = X_scaled.shape[1]\n",
    "input_layer = layers.Input(shape=(input_dim,))"
   ]
  },
  {
   "cell_type": "markdown",
   "metadata": {},
   "source": [
    "## Definición del número de neuronas de la capa de codificación"
   ]
  },
  {
   "cell_type": "code",
   "execution_count": 18,
   "metadata": {},
   "outputs": [],
   "source": [
    "encoding_dim = 2\n",
    "# El poner (input_layer) al final indica que la capa encoded recibe como entrada la capa input_layer\n",
    "encoded = layers.Dense(encoding_dim, activation='relu')(input_layer)"
   ]
  },
  {
   "cell_type": "markdown",
   "metadata": {},
   "source": [
    "## Definición capa decodificación"
   ]
  },
  {
   "cell_type": "code",
   "execution_count": 20,
   "metadata": {},
   "outputs": [],
   "source": [
    "decoded = layers.Dense(input_dim, activation='sigmoid')(encoded)"
   ]
  },
  {
   "cell_type": "markdown",
   "metadata": {},
   "source": [
    "## Creación del modelo"
   ]
  },
  {
   "cell_type": "code",
   "execution_count": 22,
   "metadata": {},
   "outputs": [],
   "source": [
    "autoencoder = models.Model(input_layer, decoded)\n",
    "autoencoder.compile(optimizer='adam', loss='mean_squared_error')"
   ]
  },
  {
   "cell_type": "markdown",
   "metadata": {},
   "source": [
    "# Entrenamiento del modelo"
   ]
  },
  {
   "cell_type": "code",
   "execution_count": 23,
   "metadata": {
    "collapsed": true,
    "jupyter": {
     "outputs_hidden": true
    }
   },
   "outputs": [
    {
     "name": "stdout",
     "output_type": "stream",
     "text": [
      "Train on 256 samples, validate on 64 samples\n",
      "Epoch 1/50\n",
      "256/256 [==============================] - 0s 1ms/sample - loss: 1.3589 - val_loss: 1.5861\n",
      "Epoch 2/50\n",
      "256/256 [==============================] - 0s 59us/sample - loss: 1.3494 - val_loss: 1.5777\n",
      "Epoch 3/50\n",
      "256/256 [==============================] - 0s 57us/sample - loss: 1.3404 - val_loss: 1.5694\n",
      "Epoch 4/50\n",
      "256/256 [==============================] - 0s 55us/sample - loss: 1.3311 - val_loss: 1.5614\n",
      "Epoch 5/50\n",
      "256/256 [==============================] - 0s 58us/sample - loss: 1.3222 - val_loss: 1.5534\n",
      "Epoch 6/50\n",
      "256/256 [==============================] - 0s 55us/sample - loss: 1.3132 - val_loss: 1.5458\n",
      "Epoch 7/50\n",
      "256/256 [==============================] - 0s 58us/sample - loss: 1.3041 - val_loss: 1.5386\n",
      "Epoch 8/50\n",
      "256/256 [==============================] - 0s 55us/sample - loss: 1.2956 - val_loss: 1.5315\n",
      "Epoch 9/50\n",
      "256/256 [==============================] - 0s 58us/sample - loss: 1.2872 - val_loss: 1.5246\n",
      "Epoch 10/50\n",
      "256/256 [==============================] - 0s 55us/sample - loss: 1.2788 - val_loss: 1.5178\n",
      "Epoch 11/50\n",
      "256/256 [==============================] - 0s 58us/sample - loss: 1.2705 - val_loss: 1.5113\n",
      "Epoch 12/50\n",
      "256/256 [==============================] - 0s 56us/sample - loss: 1.2624 - val_loss: 1.5051\n",
      "Epoch 13/50\n",
      "256/256 [==============================] - 0s 58us/sample - loss: 1.2546 - val_loss: 1.4991\n",
      "Epoch 14/50\n",
      "256/256 [==============================] - 0s 56us/sample - loss: 1.2468 - val_loss: 1.4933\n",
      "Epoch 15/50\n",
      "256/256 [==============================] - 0s 60us/sample - loss: 1.2392 - val_loss: 1.4878\n",
      "Epoch 16/50\n",
      "256/256 [==============================] - 0s 60us/sample - loss: 1.2316 - val_loss: 1.4826\n",
      "Epoch 17/50\n",
      "256/256 [==============================] - 0s 58us/sample - loss: 1.2244 - val_loss: 1.4775\n",
      "Epoch 18/50\n",
      "256/256 [==============================] - 0s 58us/sample - loss: 1.2172 - val_loss: 1.4726\n",
      "Epoch 19/50\n",
      "256/256 [==============================] - 0s 62us/sample - loss: 1.2102 - val_loss: 1.4679\n",
      "Epoch 20/50\n",
      "256/256 [==============================] - 0s 58us/sample - loss: 1.2033 - val_loss: 1.4633\n",
      "Epoch 21/50\n",
      "256/256 [==============================] - 0s 58us/sample - loss: 1.1965 - val_loss: 1.4591\n",
      "Epoch 22/50\n",
      "256/256 [==============================] - 0s 57us/sample - loss: 1.1902 - val_loss: 1.4548\n",
      "Epoch 23/50\n",
      "256/256 [==============================] - 0s 54us/sample - loss: 1.1837 - val_loss: 1.4507\n",
      "Epoch 24/50\n",
      "256/256 [==============================] - 0s 58us/sample - loss: 1.1773 - val_loss: 1.4470\n",
      "Epoch 25/50\n",
      "256/256 [==============================] - 0s 55us/sample - loss: 1.1713 - val_loss: 1.4432\n",
      "Epoch 26/50\n",
      "256/256 [==============================] - 0s 59us/sample - loss: 1.1652 - val_loss: 1.4399\n",
      "Epoch 27/50\n",
      "256/256 [==============================] - 0s 55us/sample - loss: 1.1593 - val_loss: 1.4367\n",
      "Epoch 28/50\n",
      "256/256 [==============================] - 0s 58us/sample - loss: 1.1537 - val_loss: 1.4336\n",
      "Epoch 29/50\n",
      "256/256 [==============================] - 0s 56us/sample - loss: 1.1481 - val_loss: 1.4306\n",
      "Epoch 30/50\n",
      "256/256 [==============================] - 0s 57us/sample - loss: 1.1426 - val_loss: 1.4279\n",
      "Epoch 31/50\n",
      "256/256 [==============================] - 0s 58us/sample - loss: 1.1375 - val_loss: 1.4251\n",
      "Epoch 32/50\n",
      "256/256 [==============================] - 0s 55us/sample - loss: 1.1323 - val_loss: 1.4226\n",
      "Epoch 33/50\n",
      "256/256 [==============================] - 0s 60us/sample - loss: 1.1274 - val_loss: 1.4203\n",
      "Epoch 34/50\n",
      "256/256 [==============================] - 0s 57us/sample - loss: 1.1225 - val_loss: 1.4179\n",
      "Epoch 35/50\n",
      "256/256 [==============================] - 0s 60us/sample - loss: 1.1178 - val_loss: 1.4159\n",
      "Epoch 36/50\n",
      "256/256 [==============================] - 0s 54us/sample - loss: 1.1134 - val_loss: 1.4140\n",
      "Epoch 37/50\n",
      "256/256 [==============================] - 0s 61us/sample - loss: 1.1092 - val_loss: 1.4120\n",
      "Epoch 38/50\n",
      "256/256 [==============================] - 0s 55us/sample - loss: 1.1051 - val_loss: 1.4104\n",
      "Epoch 39/50\n",
      "256/256 [==============================] - 0s 61us/sample - loss: 1.1014 - val_loss: 1.4089\n",
      "Epoch 40/50\n",
      "256/256 [==============================] - 0s 54us/sample - loss: 1.0977 - val_loss: 1.4074\n",
      "Epoch 41/50\n",
      "256/256 [==============================] - 0s 60us/sample - loss: 1.0942 - val_loss: 1.4061\n",
      "Epoch 42/50\n",
      "256/256 [==============================] - 0s 56us/sample - loss: 1.0907 - val_loss: 1.4048\n",
      "Epoch 43/50\n",
      "256/256 [==============================] - 0s 58us/sample - loss: 1.0875 - val_loss: 1.4036\n",
      "Epoch 44/50\n",
      "256/256 [==============================] - 0s 60us/sample - loss: 1.0844 - val_loss: 1.4027\n",
      "Epoch 45/50\n",
      "256/256 [==============================] - 0s 58us/sample - loss: 1.0815 - val_loss: 1.4017\n",
      "Epoch 46/50\n",
      "256/256 [==============================] - 0s 63us/sample - loss: 1.0787 - val_loss: 1.4009\n",
      "Epoch 47/50\n",
      "256/256 [==============================] - 0s 56us/sample - loss: 1.0761 - val_loss: 1.4003\n",
      "Epoch 48/50\n",
      "256/256 [==============================] - 0s 64us/sample - loss: 1.0736 - val_loss: 1.3998\n",
      "Epoch 49/50\n",
      "256/256 [==============================] - 0s 56us/sample - loss: 1.0712 - val_loss: 1.3994\n",
      "Epoch 50/50\n",
      "256/256 [==============================] - 0s 62us/sample - loss: 1.0689 - val_loss: 1.3990\n"
     ]
    },
    {
     "data": {
      "text/plain": [
       "<tensorflow.python.keras.callbacks.History at 0x1523b9f10>"
      ]
     },
     "execution_count": 23,
     "metadata": {},
     "output_type": "execute_result"
    }
   ],
   "source": [
    "autoencoder.fit(X_scaled, X_scaled, epochs=50, batch_size=32, validation_split=0.2, verbose=1)"
   ]
  },
  {
   "cell_type": "markdown",
   "metadata": {},
   "source": [
    "# Realizar predicciones --> Detección de anomalías. Si no reconstruye bien la muestra es una anomalía"
   ]
  },
  {
   "cell_type": "code",
   "execution_count": 24,
   "metadata": {},
   "outputs": [],
   "source": [
    "X_reconstructed = autoencoder.predict(X_scaled)"
   ]
  },
  {
   "cell_type": "code",
   "execution_count": 38,
   "metadata": {},
   "outputs": [
    {
     "data": {
      "text/plain": [
       "(320, 2)"
      ]
     },
     "execution_count": 38,
     "metadata": {},
     "output_type": "execute_result"
    }
   ],
   "source": [
    "X_reconstructed.shape"
   ]
  },
  {
   "cell_type": "markdown",
   "metadata": {},
   "source": [
    "## Cálculamos el MSE de las predicciones"
   ]
  },
  {
   "cell_type": "code",
   "execution_count": 50,
   "metadata": {},
   "outputs": [],
   "source": [
    "reconstruction_error = np.mean((X_scaled - X_reconstructed) ** 2, axis=1)"
   ]
  },
  {
   "cell_type": "markdown",
   "metadata": {},
   "source": [
    "## Detectamos las anomalías"
   ]
  },
  {
   "cell_type": "code",
   "execution_count": 52,
   "metadata": {},
   "outputs": [
    {
     "name": "stdout",
     "output_type": "stream",
     "text": [
      "El Threshold es: 1.9528822795095415\n"
     ]
    }
   ],
   "source": [
    "# Establecemos el umbral de anomalía en un 95% de los errores más bajos.\n",
    "threshold = np.percentile(reconstruction_error, 95)\n",
    "print(f'El Threshold es: {threshold}')"
   ]
  },
  {
   "cell_type": "code",
   "execution_count": 53,
   "metadata": {},
   "outputs": [],
   "source": [
    "# Clasificamos las anomalías en base al error\n",
    "X_normal_autoencoder = X[reconstruction_error < threshold]\n",
    "X_anomalies_autoencoder =  X[reconstruction_error >= threshold]"
   ]
  },
  {
   "cell_type": "markdown",
   "metadata": {},
   "source": [
    "# Visualización de resultados"
   ]
  },
  {
   "cell_type": "code",
   "execution_count": 56,
   "metadata": {},
   "outputs": [
    {
     "data": {
      "image/png": "[encoded data removed]",
      "text/plain": [
       "<Figure size 800x600 with 1 Axes>"
      ]
     },
     "metadata": {},
     "output_type": "display_data"
    }
   ],
   "source": [
    "plt.figure(figsize=(8, 6))\n",
    "plt.scatter(X_normal_autoencoder[:, 0], X_normal_autoencoder[:, 1], label=\"Datos normales\")\n",
    "plt.scatter(X_anomalies_autoencoder[:, 0], X_anomalies_autoencoder[:, 1], color='red', label=\"Anomalías detectadas\")\n",
    "plt.legend()\n",
    "plt.title(\"Detección de anomalías con Autoencoders\")\n",
    "plt.show()"
   ]
  },
  {
   "cell_type": "code",
   "execution_count": null,
   "metadata": {},
   "outputs": [],
   "source": []
  }
 ],
 "metadata": {
  "kernelspec": {
   "display_name": "Python 3",
   "language": "python",
   "name": "python3"
  },
  "language_info": {
   "codemirror_mode": {
    "name": "ipython",
    "version": 3
   },
   "file_extension": ".py",
   "mimetype": "text/x-python",
   "name": "python",
   "nbconvert_exporter": "python",
   "pygments_lexer": "ipython3",
   "version": "3.7.6"
  }
 },
 "nbformat": 4,
 "nbformat_minor": 4
}
